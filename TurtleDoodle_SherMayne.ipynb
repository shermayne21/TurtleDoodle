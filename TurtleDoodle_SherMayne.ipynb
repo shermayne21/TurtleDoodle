{
 "cells": [
  {
   "cell_type": "markdown",
   "id": "a4852c67",
   "metadata": {},
   "source": [
    "# Turtle Doodle Python Examples and Lab Experiments\n",
    "Before clicking Run to execute cells, make sure \"ANA522 (default)\" Kernel is selected."
   ]
  },
  {
   "cell_type": "code",
   "execution_count": 3,
   "id": "b3380659",
   "metadata": {},
   "outputs": [
    {
     "data": {
      "application/vnd.jupyter.widget-view+json": {
       "model_id": "d548291c091847849b2c0f229c5241b3",
       "version_major": 2,
       "version_minor": 0
      },
      "text/plain": [
       "Turtle()"
      ]
     },
     "metadata": {},
     "output_type": "display_data"
    }
   ],
   "source": [
    "# draw square\n",
    "\n",
    "from mobilechelonian import Turtle\n",
    "myturtle = Turtle()\n",
    "myturtle.speed(5) \n",
    "for i in range(4):\n",
    "    myturtle.forward(50)\n",
    "    myturtle.right(90)\n",
    "     \n",
    "myturtle.home()"
   ]
  },
  {
   "cell_type": "code",
   "execution_count": 10,
   "id": "9322037c",
   "metadata": {},
   "outputs": [
    {
     "data": {
      "application/vnd.jupyter.widget-view+json": {
       "model_id": "b1b2cadb881e492ebb39e9296cc1534d",
       "version_major": 2,
       "version_minor": 0
      },
      "text/plain": [
       "Turtle()"
      ]
     },
     "metadata": {},
     "output_type": "display_data"
    }
   ],
   "source": [
    "# draw star\n",
    "\n",
    "star = Turtle()\n",
    " \n",
    "for i in range(5):\n",
    "    star.forward(50)\n",
    "    star.right(144)\n",
    "     \n",
    "star.home()"
   ]
  },
  {
   "cell_type": "code",
   "execution_count": 29,
   "id": "37fa4bda",
   "metadata": {},
   "outputs": [
    {
     "data": {
      "application/vnd.jupyter.widget-view+json": {
       "model_id": "",
       "version_major": 2,
       "version_minor": 0
      },
      "text/plain": [
       "Turtle()"
      ]
     },
     "metadata": {},
     "output_type": "display_data"
    }
   ],
   "source": [
    "# draw spiral\n",
    "\n",
    "spiral = Turtle()\n",
    "spiral.speed(5)\n",
    " \n",
    "def sqrfunc(size):\n",
    "    for i in range(4):\n",
    "        spiral.forward(size)\n",
    "        spiral.left(90)\n",
    "        size = size-5\n",
    " \n",
    "sqrfunc(146)\n",
    "sqrfunc(126)\n",
    "sqrfunc(106)\n",
    "sqrfunc(86)\n",
    "sqrfunc(66)\n",
    "sqrfunc(46)\n",
    "sqrfunc(26)\n"
   ]
  },
  {
   "cell_type": "code",
   "execution_count": null,
   "id": "aef21bca",
   "metadata": {},
   "outputs": [],
   "source": [
    "spiral2 = Turtle()\n",
    "spiral2.speed(10)\n",
    "for i in range(25):\n",
    "    spiral2.circle(5*i)\n",
    "#    spiral2.circle(-5*i)\n",
    "    spiral2.left(i)"
   ]
  },
  {
   "cell_type": "code",
   "execution_count": 31,
   "id": "fc0ff8ff",
   "metadata": {},
   "outputs": [
    {
     "data": {
      "application/vnd.jupyter.widget-view+json": {
       "model_id": "",
       "version_major": 2,
       "version_minor": 0
      },
      "text/plain": [
       "Turtle()"
      ]
     },
     "metadata": {},
     "output_type": "display_data"
    }
   ],
   "source": [
    "from mobilechelonian import Turtle\n",
    "t = Turtle()\n",
    "t.speed(5)\n",
    "colours=[\"red\",\"blue\",\"yellow\",\"brown\",\"black\",\"purple\",\"green\"]\n",
    "\n",
    "t.penup(); t.left(90); t.forward(200);t.right(90);t.pendown()\n",
    "for i in range (0,18):\n",
    "    t.pencolor(colours[i%7])\n",
    "    t.right(20)\n",
    "    t.forward(50)\n",
    "\n",
    "t.right(180)\n",
    "t.home()"
   ]
  },
  {
   "cell_type": "markdown",
   "id": "d9f6fddb",
   "metadata": {},
   "source": [
    "# Create your own Turtle Doodle\n",
    "Try duplicate a cell of a sample program,\n",
    "Revise however you want to create your own doodle in the following cell."
   ]
  },
  {
   "cell_type": "code",
   "execution_count": 12,
   "id": "678be13d",
   "metadata": {},
   "outputs": [
    {
     "data": {
      "application/vnd.jupyter.widget-view+json": {
       "model_id": "b83c3ebe5dab46d7b922275e47a5fdfc",
       "version_major": 2,
       "version_minor": 0
      },
      "text/plain": [
       "Turtle()"
      ]
     },
     "metadata": {},
     "output_type": "display_data"
    }
   ],
   "source": [
    "# Your Turtle Doodle esanbox is here\n",
    "triangle = Turtle()\n",
    " \n",
    "for i in range(3):\n",
    "    triangle.forward(50)\n",
    "    triangle.right(120)\n",
    "     \n",
    "triangle.home()"
   ]
  },
  {
   "cell_type": "markdown",
   "id": "dde92961",
   "metadata": {},
   "source": [
    "# Say \"hello world\"\n",
    "To make a line of output from Python statement, \n",
    "just use print() command with the parenthesis to enclose the output sentence"
   ]
  },
  {
   "cell_type": "code",
   "execution_count": 13,
   "id": "adcba709",
   "metadata": {},
   "outputs": [
    {
     "name": "stdout",
     "output_type": "stream",
     "text": [
      "hello world !!!\n",
      "hello world too\n"
     ]
    }
   ],
   "source": [
    "# output \"hello world!!!\"\n",
    "# the sting can be either single quotes or double quotes\n",
    "print('hello world !!!')\n",
    "print(\"hello world too\")"
   ]
  },
  {
   "cell_type": "markdown",
   "id": "c156cbcc",
   "metadata": {},
   "source": [
    "# Get user input interactively\n",
    "Ask user for input, and use the input for computation\n"
   ]
  },
  {
   "cell_type": "code",
   "execution_count": null,
   "id": "d7456b36",
   "metadata": {},
   "outputs": [],
   "source": [
    "#Say customized greeting with input of user name\n",
    "username = input(\"Can you say your name?\")\n",
    "print(\"Hello \",username,\", Nice to meet you.\")"
   ]
  },
  {
   "cell_type": "markdown",
   "id": "07442e62",
   "metadata": {},
   "source": [
    "# Explore more by creating new cells in the Notebook\n",
    "Please create a new cell here to print a different sentence as output."
   ]
  },
  {
   "cell_type": "code",
   "execution_count": null,
   "id": "298fe7d4",
   "metadata": {},
   "outputs": [],
   "source": [
    "#Other doodle shapes\n",
    "print(\"Let me know what other shapes you would like to see.\")"
   ]
  },
  {
   "cell_type": "markdown",
   "id": "e802c9c8",
   "metadata": {},
   "source": [
    "# Module00 Turtle Doodle Submission\n",
    "1. Save this .ipynb file\n",
    "2. Download to your local computer for backup\n",
    "3. Use the backup file on your local computer to submit this Turtle Doodle assignment through Blackboard portal."
   ]
  }
 ],
 "metadata": {
  "kernelspec": {
   "display_name": "ANA522 (default)",
   "language": "python",
   "name": "ada522"
  },
  "language_info": {
   "codemirror_mode": {
    "name": "ipython",
    "version": 3
   },
   "file_extension": ".py",
   "mimetype": "text/x-python",
   "name": "python",
   "nbconvert_exporter": "python",
   "pygments_lexer": "ipython3",
   "version": "3.8.5"
  }
 },
 "nbformat": 4,
 "nbformat_minor": 5
}
